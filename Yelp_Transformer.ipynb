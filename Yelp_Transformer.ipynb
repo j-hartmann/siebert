{
  "nbformat": 4,
  "nbformat_minor": 0,
  "metadata": {
    "colab": {
      "provenance": [],
      "machine_shape": "hm",
      "authorship_tag": "ABX9TyNKBBKmTMy1xvmUt+qwS5E8",
      "include_colab_link": true
    },
    "kernelspec": {
      "name": "python3",
      "display_name": "Python 3"
    },
    "language_info": {
      "name": "python"
    },
    "accelerator": "GPU",
    "gpuClass": "standard"
  },
  "cells": [
    {
      "cell_type": "markdown",
      "metadata": {
        "id": "view-in-github",
        "colab_type": "text"
      },
      "source": [
        "<a href=\"https://colab.research.google.com/github/j-hartmann/siebert/blob/main/Yelp_Transformer.ipynb\" target=\"_parent\"><img src=\"https://colab.research.google.com/assets/colab-badge.svg\" alt=\"Open In Colab\"/></a>"
      ]
    },
    {
      "cell_type": "code",
      "execution_count": 1,
      "metadata": {
        "id": "ZryO_wGgUFMo"
      },
      "outputs": [],
      "source": [
        "# install libraries\n",
        "!pip install transformers --q"
      ]
    },
    {
      "cell_type": "code",
      "source": [
        "# check gpu\n",
        "!nvidia-smi"
      ],
      "metadata": {
        "colab": {
          "base_uri": "https://localhost:8080/"
        },
        "id": "eMdd7wJrUPeX",
        "outputId": "2ea7246d-f7a8-4eba-8a66-af756bb4acde"
      },
      "execution_count": 2,
      "outputs": [
        {
          "output_type": "stream",
          "name": "stdout",
          "text": [
            "Wed Jun  7 09:58:51 2023       \n",
            "+-----------------------------------------------------------------------------+\n",
            "| NVIDIA-SMI 525.85.12    Driver Version: 525.85.12    CUDA Version: 12.0     |\n",
            "|-------------------------------+----------------------+----------------------+\n",
            "| GPU  Name        Persistence-M| Bus-Id        Disp.A | Volatile Uncorr. ECC |\n",
            "| Fan  Temp  Perf  Pwr:Usage/Cap|         Memory-Usage | GPU-Util  Compute M. |\n",
            "|                               |                      |               MIG M. |\n",
            "|===============================+======================+======================|\n",
            "|   0  Tesla T4            Off  | 00000000:00:04.0 Off |                    0 |\n",
            "| N/A   53C    P8    12W /  70W |      0MiB / 15360MiB |      0%      Default |\n",
            "|                               |                      |                  N/A |\n",
            "+-------------------------------+----------------------+----------------------+\n",
            "                                                                               \n",
            "+-----------------------------------------------------------------------------+\n",
            "| Processes:                                                                  |\n",
            "|  GPU   GI   CI        PID   Type   Process name                  GPU Memory |\n",
            "|        ID   ID                                                   Usage      |\n",
            "|=============================================================================|\n",
            "|  No running processes found                                                 |\n",
            "+-----------------------------------------------------------------------------+\n"
          ]
        }
      ]
    },
    {
      "cell_type": "code",
      "source": [
        "# load libraries\n",
        "from transformers import pipeline\n",
        "from google.colab import files\n",
        "import pandas as pd\n",
        "from google.colab import drive"
      ],
      "metadata": {
        "id": "cbR81X6LUUBK"
      },
      "execution_count": 3,
      "outputs": []
    },
    {
      "cell_type": "code",
      "source": [
        "# upload dataset\n",
        "files.upload()\n",
        "# alternatively, connect to gdrive using the following command: drive.mount(\"/content/drive/\")"
      ],
      "metadata": {
        "id": "9VruY_zVUUc6"
      },
      "execution_count": null,
      "outputs": []
    },
    {
      "cell_type": "code",
      "source": [
        "# specify your filename\n",
        "input_filename = \"/content/yelp_labelled.txt\"  # note: you can right-click on your file and copy/paste the path"
      ],
      "metadata": {
        "id": "qncfVmRXUW65"
      },
      "execution_count": 5,
      "outputs": []
    },
    {
      "cell_type": "code",
      "source": [
        "# read in csv\n",
        "d = pd.read_csv(input_filename, delimiter = \"\\t\", header = None)\n",
        "d.columns = [\"text\", \"class\"]\n",
        "texts = d['text'].astype('str').tolist()\n",
        "print(texts[0:5])  # print first 5 rows"
      ],
      "metadata": {
        "colab": {
          "base_uri": "https://localhost:8080/"
        },
        "id": "CXSoCJeGUbUX",
        "outputId": "ce7ccf27-b016-46d2-d760-3e80725e2966"
      },
      "execution_count": 6,
      "outputs": [
        {
          "output_type": "stream",
          "name": "stdout",
          "text": [
            "['Wow... Loved this place.', 'Crust is not good.', 'Not tasty and the texture was just nasty.', 'Stopped by during the late May bank holiday off Rick Steve recommendation and loved it.', 'The selection on the menu was great and so were the prices.']\n"
          ]
        }
      ]
    },
    {
      "cell_type": "code",
      "source": [
        "# load siebert\n",
        "model_name = \"siebert/sentiment-roberta-large-english\"\n",
        "get_sentiment = pipeline(model=model_name, device = 0)  # use gpu"
      ],
      "metadata": {
        "id": "vaYWJYqqUe1Z"
      },
      "execution_count": null,
      "outputs": []
    },
    {
      "cell_type": "code",
      "source": [
        "# predict sentiment\n",
        "predictions = pd.DataFrame(get_sentiment(texts))['label']\n",
        "predictions[0:5]  # print first 5 rows"
      ],
      "metadata": {
        "colab": {
          "base_uri": "https://localhost:8080/"
        },
        "id": "2OazC-2BVzSv",
        "outputId": "34f2524f-83a1-45e0-efb3-08655860cc37"
      },
      "execution_count": 8,
      "outputs": [
        {
          "output_type": "execute_result",
          "data": {
            "text/plain": [
              "0    POSITIVE\n",
              "1    NEGATIVE\n",
              "2    NEGATIVE\n",
              "3    POSITIVE\n",
              "4    POSITIVE\n",
              "Name: label, dtype: object"
            ]
          },
          "metadata": {},
          "execution_count": 8
        }
      ]
    },
    {
      "cell_type": "code",
      "source": [
        "# transform positive/negative to 1/0\n",
        "predictions = [1 if x=='POSITIVE' else 0 for x in predictions.to_list()]\n",
        "predictions[0:5]  # print first 5 rows"
      ],
      "metadata": {
        "colab": {
          "base_uri": "https://localhost:8080/"
        },
        "id": "2AWct3fIYBmi",
        "outputId": "415d2176-9f88-4e09-c492-8d51b142603d"
      },
      "execution_count": 9,
      "outputs": [
        {
          "output_type": "execute_result",
          "data": {
            "text/plain": [
              "[1, 0, 0, 1, 1]"
            ]
          },
          "metadata": {},
          "execution_count": 9
        }
      ]
    },
    {
      "cell_type": "code",
      "source": [
        "# compute accuracy\n",
        "sum(predictions == d['class'])/len(predictions)"
      ],
      "metadata": {
        "colab": {
          "base_uri": "https://localhost:8080/"
        },
        "id": "B1xYqPBQZncE",
        "outputId": "f61cde39-4acd-4603-fc20-dfcb0902e425"
      },
      "execution_count": 10,
      "outputs": [
        {
          "output_type": "execute_result",
          "data": {
            "text/plain": [
              "0.963"
            ]
          },
          "metadata": {},
          "execution_count": 10
        }
      ]
    },
    {
      "cell_type": "markdown",
      "source": [
        "### **Sources**\n",
        "\n",
        "1.   **Data:** https://archive.ics.uci.edu/ml/datasets/Sentiment+Labelled+Sentences\n",
        "2.   **Model (SiEBERT):** https://huggingface.co/siebert/sentiment-roberta-large-english\n",
        "2.   **Publication:** Hartmann, J., Heitmann, M., Siebert, C., & Schamp, C. (2023). More than a feeling: Accuracy and application of sentiment analysis. *International Journal of Research in Marketing*, 40(1), 75-87. https://doi.org/10.1016/j.ijresmar.2022.05.005 \n"
      ],
      "metadata": {
        "id": "J9LH65nnbg2h"
      }
    }
  ]
}